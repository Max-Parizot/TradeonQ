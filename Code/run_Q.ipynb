{
 "cells": [
  {
   "cell_type": "code",
   "execution_count": 1,
   "metadata": {},
   "outputs": [
    {
     "name": "stdout",
     "output_type": "stream",
     "text": [
      "Imbalance Index (I):\n",
      "[[-0.26167019]\n",
      " [-0.26733019]\n",
      " [-0.22602521]\n",
      " ...\n",
      " [ 0.03233195]\n",
      " [ 0.03233195]\n",
      " [ 0.03233195]]\n"
     ]
    }
   ],
   "source": [
    "import RUN_Q as Q\n",
    "import requests\n",
    "import numpy as np\n",
    "from scipy.linalg import expm\n",
    "from skopt import BayesSearchCV\n",
    "from skopt.space import Integer\n",
    "\n",
    "\n",
    "import pandas as pd\n",
    "\n",
    "def lobster_data(data1, data2):\n",
    "    # Extract time from the first column of data1\n",
    "    Time = data1[:, 1]\n",
    "\n",
    "   # Assuming data2 is a NumPy array\n",
    "    num_rows, num_cols = data2.shape\n",
    "    num_levels = num_cols // 4\n",
    "\n",
    "    # Reshape data2 to match the desired structure\n",
    "    data_reshaped = data2.reshape((num_rows, num_levels, 4))\n",
    "\n",
    "    # Extract MOBid, bid_volume, MOAsk, and ask_volume from reshaped data\n",
    "    MOAsk = data_reshaped[:, :, 0]  # Ask Price\n",
    "    ask_volume = data_reshaped[:, :, 1]  # Ask Size \n",
    "    MOBid = data_reshaped[:, :, 2]  # Bid Price\n",
    "    bid_volume = data_reshaped[:, :, 3]  # Bid Size\n",
    "\n",
    "    return MOBid, bid_volume, MOAsk, ask_volume, Time\n",
    "# Replace 'your_file.csv' with the actual path to your CSV file\n",
    "file_path1 = 'C:\\\\Users\\\\Maxparizot\\\\Documents\\\\GitHub\\\\TradeonQ\\\\LOB3Example - Matlab example\\\\LOBSupportingFiles\\\\MSFT_2012-06-21_34200000_57600000_message_10.csv'\n",
    "file_path2 = 'C:\\\\Users\\\\Maxparizot\\\\Documents\\\\GitHub\\\\TradeonQ\\\\LOB3Example - Matlab example\\\\LOBSupportingFiles\\\\MSFT_2012-06-21_34200000_57600000_orderbook_10.csv'\n",
    "\n",
    "# Read the CSV file into a DataFrame\n",
    "data1 = np.loadtxt(file_path1,delimiter=',')\n",
    "data2= np.loadtxt(file_path2,delimiter=',')\n",
    "\n",
    "MOBid, bid_volume, MOAsk, ask_volume, Time = lobster_data(data1, data2)\n",
    "\n",
    "# Assuming bid_volume and ask_volume are NumPy arrays\n",
    "num_time_points = bid_volume.shape[0]\n",
    "I = np.full((num_time_points, 1), np.nan)  # initialize variable\n",
    "\n",
    "for time in range(num_time_points):\n",
    "    I[time, 0] = Q.imbalance_ratio(bid_volume[time, :], ask_volume[time, :])\n"
   ]
  },
  {
   "cell_type": "markdown",
   "metadata": {},
   "source": [
    "In the above section data was imported from lobster and manipulated suchthat it could be consumed and used in this analysis tool. Proceeding this I will implement the bayenese optimization such that it reflects the findings from Matlab.\n",
    "I also need to make sure that makeQ and tradeonQ are made correctly in python. This will be a project for once I finish my propulsions exam."
   ]
  },
  {
   "cell_type": "code",
   "execution_count": 2,
   "metadata": {},
   "outputs": [
    {
     "data": {
      "text/plain": [
       "10"
      ]
     },
     "execution_count": 2,
     "metadata": {},
     "output_type": "execute_result"
    }
   ],
   "source": [
    "40//4"
   ]
  }
 ],
 "metadata": {
  "kernelspec": {
   "display_name": "base",
   "language": "python",
   "name": "python3"
  },
  "language_info": {
   "codemirror_mode": {
    "name": "ipython",
    "version": 3
   },
   "file_extension": ".py",
   "mimetype": "text/x-python",
   "name": "python",
   "nbconvert_exporter": "python",
   "pygments_lexer": "ipython3",
   "version": "3.11.5"
  }
 },
 "nbformat": 4,
 "nbformat_minor": 2
}
