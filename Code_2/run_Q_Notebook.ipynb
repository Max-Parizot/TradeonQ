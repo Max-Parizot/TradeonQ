{
 "cells": [
  {
   "cell_type": "code",
   "execution_count": 1,
   "metadata": {},
   "outputs": [],
   "source": [
    "import functions as Q\n",
    "import requests\n",
    "import numpy as np\n",
    "from scipy.linalg import expm\n",
    "from skopt import BayesSearchCV\n",
    "from skopt.space import Integer\n",
    "from datetime import datetime, timedelta\n",
    "import pandas as pd\n",
    "import numpy as np\n",
    "from scipy.signal import convolve\n",
    "\n",
    "def lobster_data(data1, data2):\n",
    "    # Extract time from the first column of data1\n",
    "    Time = data1[:, 1]\n",
    "\n",
    "   # Assuming data2 is a NumPy array\n",
    "    num_rows, num_cols = data2.shape\n",
    "    num_levels = num_cols // 4\n",
    "\n",
    "    # Reshape data2 to match the desired structure\n",
    "    data_reshaped = data2.reshape((num_rows, num_levels, 4))\n",
    "\n",
    "    # Extract MOBid, bid_volume, MOAsk, and ask_volume from reshaped data\n",
    "    MOAsk = data_reshaped[:, :, 0]  # Ask Price\n",
    "    ask_volume = data_reshaped[:, :, 1]  # Ask Size \n",
    "    MOBid = data_reshaped[:, :, 2]  # Bid Price\n",
    "    bid_volume = data_reshaped[:, :, 3]  # Bid Size\n",
    "\n",
    "    return MOBid, bid_volume, MOAsk, ask_volume, Time\n",
    "# Replace 'your_file.csv' with the actual path to your CSV file\n",
    "file_path1 = 'C:\\\\Users\\\\Maxparizot\\\\Documents\\\\GitHub\\\\TradeonQ\\\\LOB3Example - Matlab example\\\\LOBSupportingFiles\\\\MSFT_2012-06-21_34200000_57600000_message_10.csv'\n",
    "file_path2 = 'C:\\\\Users\\\\Maxparizot\\\\Documents\\\\GitHub\\\\TradeonQ\\\\LOB3Example - Matlab example\\\\LOBSupportingFiles\\\\MSFT_2012-06-21_34200000_57600000_orderbook_10.csv'\n",
    "\n",
    "# Read the CSV file into a DataFrame\n",
    "data1 = np.loadtxt(file_path1,delimiter=',')\n",
    "data2= np.loadtxt(file_path2,delimiter=',')\n",
    "\n",
    "MOBid, bid_volume, MOAsk, ask_volume, Time = lobster_data(data1, data2)\n",
    "\n",
    "# Calculate midprice for each entry in MoBid and MoAsk\n",
    "S = np.array([Q.midprice(MOBid[price, 0], MOAsk[price, 0]) for price in range(MOBid.shape[0])])\n",
    "\n",
    "# find Imbalance index\n",
    "I = np.array([Q.imbalance_ratio(bid_volume[time, :], ask_volume[time, :]) for time in range(bid_volume.shape[0])])\n",
    "\n",
    "\n",
    "# Set your reference time (midnight)\n",
    "reference_time = datetime(2012, 6, 21, 9, 30, 0)\n",
    "t = [reference_time + timedelta(seconds=duration) for duration in Time]\n",
    "\n",
    "# Creating a DataFrame in Python using Pandas\n",
    "Data = pd.DataFrame({'t': t, 'S': S, 'I': I, 'MOBid': MOBid[:,0], 'MOAsk': MOAsk[:,0]})\n",
    "# 't' is the timestamp, set it as the index\n",
    "\n",
    "#separate data into training and validating data\n",
    "bp = round(0.80 * len(t))  # Use 80% of data for training\n",
    "TData = Data.iloc[:bp, :]  # Training data\n",
    "VData = Data.iloc[bp:, :]  # Validation data\n",
    "VData = VData.reset_index(drop=True)  # Reset index of validation data"
   ]
  },
  {
   "cell_type": "code",
   "execution_count": 2,
   "metadata": {},
   "outputs": [
    {
     "name": "stderr",
     "output_type": "stream",
     "text": [
      "<__array_function__ internals>:200: RuntimeWarning: invalid value encountered in cast\n"
     ]
    },
    {
     "name": "stdout",
     "output_type": "stream",
     "text": [
      "6200.0\n"
     ]
    }
   ],
   "source": [
    "#validate makeQ and trade on Q\n",
    "n=6\n",
    "N=36\n",
    "# Compare Qs\n",
    "rho, DS = Q.get_states(TData, n, N)\n",
    "\n",
    "QT= Q.make_Q(TData, n, N)\n",
    "\n",
    "cash=Q.trade_on_Q(VData,QT,n,N)\n",
    "print(cash)\n",
    "#QV, PCondQV, PQV, GQV, HQV, vQV, CQV, phiQV= Q.make_Q(VData, n, N)\n",
    "#QTVDiff = QT - QV\n",
    "#Inhomogeneity = (QT > 0.5) & (QV < 0.5) | (QT < 0.5) & (QV > 0.5)\n",
    "#print(\"Inhomogeneity: \", Inhomogeneity)\n",
    "# Map states to a composite state space 'phi'\n"
   ]
  },
  {
   "cell_type": "code",
   "execution_count": 2,
   "metadata": {},
   "outputs": [
    {
     "ename": "TypeError",
     "evalue": "BayesSearchCV.__init__() got an unexpected keyword argument 'acq_optimizer'",
     "output_type": "error",
     "traceback": [
      "\u001b[1;31m---------------------------------------------------------------------------\u001b[0m",
      "\u001b[1;31mTypeError\u001b[0m                                 Traceback (most recent call last)",
      "Cell \u001b[1;32mIn[2], line 3\u001b[0m\n\u001b[0;32m      1\u001b[0m \u001b[38;5;28;01mfrom\u001b[39;00m \u001b[38;5;21;01mskopt\u001b[39;00m \u001b[38;5;28;01mimport\u001b[39;00m BayesSearchCV\n\u001b[1;32m----> 3\u001b[0m results\u001b[38;5;241m=\u001b[39mQ\u001b[38;5;241m.\u001b[39moptimize_trading(TData, VData)\n\u001b[0;32m      4\u001b[0m \u001b[38;5;28mprint\u001b[39m(results)\n",
      "File \u001b[1;32mc:\\Users\\Maxparizot\\Documents\\GitHub\\TradeonQ\\Code_2\\functions.py:172\u001b[0m, in \u001b[0;36moptimize_trading\u001b[1;34m(TData, VData)\u001b[0m\n\u001b[0;32m    169\u001b[0m     \u001b[38;5;28;01mreturn\u001b[39;00m negative_cash(x, TData, VData)\n\u001b[0;32m    171\u001b[0m \u001b[38;5;66;03m# Optimize\u001b[39;00m\n\u001b[1;32m--> 172\u001b[0m results \u001b[38;5;241m=\u001b[39m BayesSearchCV(f, dimensions,\n\u001b[0;32m    173\u001b[0m                         n_iter\u001b[38;5;241m=\u001b[39m\u001b[38;5;241m75\u001b[39m,\n\u001b[0;32m    174\u001b[0m                         acq_optimizer\u001b[38;5;241m=\u001b[39m\u001b[38;5;124m'\u001b[39m\u001b[38;5;124msampling\u001b[39m\u001b[38;5;124m'\u001b[39m,\n\u001b[0;32m    175\u001b[0m                         random_state\u001b[38;5;241m=\u001b[39m\u001b[38;5;241m42\u001b[39m,\n\u001b[0;32m    176\u001b[0m                         n_jobs\u001b[38;5;241m=\u001b[39m\u001b[38;5;241m-\u001b[39m\u001b[38;5;241m1\u001b[39m,\n\u001b[0;32m    177\u001b[0m                         cv\u001b[38;5;241m=\u001b[39m\u001b[38;5;241m0\u001b[39m,\n\u001b[0;32m    178\u001b[0m                         verbose\u001b[38;5;241m=\u001b[39m\u001b[38;5;241m0\u001b[39m)\n\u001b[0;32m    180\u001b[0m results\u001b[38;5;241m.\u001b[39mfit(np\u001b[38;5;241m.\u001b[39mempty((\u001b[38;5;241m0\u001b[39m, \u001b[38;5;28mlen\u001b[39m(dimensions))))\n\u001b[0;32m    182\u001b[0m \u001b[38;5;28;01mreturn\u001b[39;00m results\n",
      "\u001b[1;31mTypeError\u001b[0m: BayesSearchCV.__init__() got an unexpected keyword argument 'acq_optimizer'"
     ]
    }
   ],
   "source": [
    "from skopt import BayesSearchCV\n",
    "\n",
    "results=Q.optimize_trading(TData, VData)\n",
    "print(results)"
   ]
  }
 ],
 "metadata": {
  "kernelspec": {
   "display_name": "base",
   "language": "python",
   "name": "python3"
  },
  "language_info": {
   "codemirror_mode": {
    "name": "ipython",
    "version": 3
   },
   "file_extension": ".py",
   "mimetype": "text/x-python",
   "name": "python",
   "nbconvert_exporter": "python",
   "pygments_lexer": "ipython3",
   "version": "3.11.5"
  }
 },
 "nbformat": 4,
 "nbformat_minor": 2
}
